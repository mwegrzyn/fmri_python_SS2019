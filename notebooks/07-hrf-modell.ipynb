{
 "cells": [
  {
   "cell_type": "markdown",
   "metadata": {},
   "source": [
    "# Modell der hämodynamischen Antwort"
   ]
  },
  {
   "cell_type": "markdown",
   "metadata": {},
   "source": [
    "### module importieren"
   ]
  },
  {
   "cell_type": "code",
   "execution_count": null,
   "metadata": {},
   "outputs": [],
   "source": [
    "import numpy as np\n",
    "from nilearn import image, input_data, plotting\n",
    "import pandas as pd\n",
    "import matplotlib.pyplot as plt\n",
    "import seaborn as sns\n",
    "\n",
    "from scipy import stats\n",
    "from nistats import hemodynamic_models\n",
    "\n",
    "sns.set_context('poster')"
   ]
  },
  {
   "cell_type": "markdown",
   "metadata": {},
   "source": [
    "### Dateiname des funktionellen Bildes"
   ]
  },
  {
   "cell_type": "code",
   "execution_count": null,
   "metadata": {},
   "outputs": [],
   "source": [
    "epi_file = '../data/sub-01_task-imagery_run-02_bold_space-MNI152NLin2009cAsym_preproc.nii.gz'"
   ]
  },
  {
   "cell_type": "code",
   "execution_count": null,
   "metadata": {},
   "outputs": [],
   "source": [
    "epi_file"
   ]
  },
  {
   "cell_type": "markdown",
   "metadata": {},
   "source": [
    "### Daten aus Seed extrahieren"
   ]
  },
  {
   "cell_type": "markdown",
   "metadata": {},
   "source": [
    "Koordinaten der interessierenden Region"
   ]
  },
  {
   "cell_type": "code",
   "execution_count": null,
   "metadata": {},
   "outputs": [],
   "source": [
    "my_seeds = [ (0,-50,30) ]"
   ]
  },
  {
   "cell_type": "code",
   "execution_count": null,
   "metadata": {},
   "outputs": [],
   "source": [
    "fig,ax = plt.subplots(1,1,figsize=(16,6))\n",
    "display = plotting.plot_anat('../data/sub-01_T1w_space-MNI152NLin2009cAsym_preproc.nii.gz',\n",
    "                             cut_coords=my_seeds[-1],\n",
    "                             axes=ax)\n",
    "display.add_markers(my_seeds,marker_size=300)\n",
    "plt.show()"
   ]
  },
  {
   "cell_type": "markdown",
   "metadata": {},
   "source": [
    "Extraktion der Daten aus der Region"
   ]
  },
  {
   "cell_type": "code",
   "execution_count": null,
   "metadata": {},
   "outputs": [],
   "source": [
    "my_standard = True\n",
    "my_detrend = True\n",
    "my_smoo = 8"
   ]
  },
  {
   "cell_type": "code",
   "execution_count": null,
   "metadata": {},
   "outputs": [],
   "source": [
    "seed_masker = input_data.NiftiSpheresMasker(seeds=my_seeds,\n",
    "                                            radius=5,\n",
    "                                            standardize=my_standard,\n",
    "                                            detrend=my_detrend,\n",
    "                                            smoothing_fwhm=my_smoo).fit()"
   ]
  },
  {
   "cell_type": "code",
   "execution_count": null,
   "metadata": {},
   "outputs": [],
   "source": [
    "seed_data = seed_masker.transform(epi_file)\n",
    "\n",
    "seed_df = pd.DataFrame(seed_data)\n",
    "seed_df.columns = ['signal']"
   ]
  },
  {
   "cell_type": "code",
   "execution_count": null,
   "metadata": {
    "scrolled": true
   },
   "outputs": [],
   "source": [
    "seed_df.tail()"
   ]
  },
  {
   "cell_type": "markdown",
   "metadata": {},
   "source": [
    "Check: wenn das Detrending funktioniert hat, dann muss der Signalverlauf über alle Volumen hinweg flach sein"
   ]
  },
  {
   "cell_type": "code",
   "execution_count": null,
   "metadata": {},
   "outputs": [],
   "source": [
    "linreg_results = stats.linregress(seed_df.index,seed_df['signal'])"
   ]
  },
  {
   "cell_type": "code",
   "execution_count": null,
   "metadata": {},
   "outputs": [],
   "source": [
    "print('Schnittpunkt der y-Achse=%.5f\\nSteigung der Geraden=%.5f'%(linreg_results.intercept, linreg_results.slope))"
   ]
  },
  {
   "cell_type": "code",
   "execution_count": null,
   "metadata": {},
   "outputs": [],
   "source": [
    "plt.figure(figsize=(16,6))\n",
    "\n",
    "# die Daten der Seed-Region\n",
    "plt.plot(seed_df)\n",
    "\n",
    "# die Ergebnisse der linearen Regression\n",
    "plt.plot([linreg_results.intercept+linreg_results.slope*x for x in seed_df.index],\n",
    "         label='Regressionslinie')\n",
    "\n",
    "plt.ylabel('z-transformiertes Signal')\n",
    "plt.xlabel('Zeit in Volumen')\n",
    "plt.legend()\n",
    "sns.despine(trim=True)\n",
    "plt.show()"
   ]
  },
  {
   "cell_type": "markdown",
   "metadata": {},
   "source": [
    "### Studiendesign laden"
   ]
  },
  {
   "cell_type": "code",
   "execution_count": null,
   "metadata": {},
   "outputs": [],
   "source": [
    "design_df = pd.read_csv('../data/sub-01_task-imagery_run-02_events.tsv',sep='\\t',index_col=[2,4])\n",
    "design_df = design_df.sort_index()\n",
    "design_df"
   ]
  },
  {
   "cell_type": "markdown",
   "metadata": {},
   "source": [
    "## Modell der hämodynamischen Antwort"
   ]
  },
  {
   "cell_type": "code",
   "execution_count": null,
   "metadata": {},
   "outputs": [],
   "source": [
    "my_tr = 3.0\n",
    "my_onset = 0.0\n",
    "my_length = 32.0"
   ]
  },
  {
   "cell_type": "code",
   "execution_count": null,
   "metadata": {},
   "outputs": [],
   "source": [
    "hrf_model = hemodynamic_models.spm_hrf(tr=my_tr,\n",
    "                                   oversampling=my_tr,\n",
    "                                   time_length=my_length+my_onset,\n",
    "                                   onset=my_onset)"
   ]
  },
  {
   "cell_type": "code",
   "execution_count": null,
   "metadata": {},
   "outputs": [],
   "source": [
    "plt.figure(figsize=(8,5))\n",
    "plt.plot(hrf_model,'-o',label='erwartete messbare Antwort')\n",
    "plt.axvline(my_onset,color='r',label='neuronales Feuern')\n",
    "plt.axhline(0,color='k')\n",
    "sns.despine()\n",
    "plt.legend(loc=(1,0.5))\n",
    "plt.xlabel('Zeit in Sekunden')\n",
    "plt.show()"
   ]
  },
  {
   "cell_type": "markdown",
   "metadata": {},
   "source": [
    "### Interaktives Verschieben der HRF"
   ]
  },
  {
   "cell_type": "code",
   "execution_count": null,
   "metadata": {},
   "outputs": [],
   "source": [
    "from ipywidgets import interact"
   ]
  },
  {
   "cell_type": "code",
   "execution_count": null,
   "metadata": {},
   "outputs": [],
   "source": [
    "def f(my_onset):\n",
    "    hrf_model = hemodynamic_models.spm_hrf(tr=my_tr,\n",
    "                                       oversampling=my_tr,\n",
    "                                       time_length=my_length+my_onset,\n",
    "                                       onset=my_onset)\n",
    "    plt.figure(figsize=(8,5))\n",
    "    plt.plot(hrf_model,'-o',label='erwartete messbare Antwort')\n",
    "    plt.axvline(my_onset,color='r',label='neuronales Feuern')\n",
    "    plt.axhline(0,color='k')\n",
    "    sns.despine()\n",
    "    plt.legend(loc=(1,0.5))\n",
    "    plt.xlabel('Zeit in Sekunden')\n",
    "    plt.show()"
   ]
  },
  {
   "cell_type": "code",
   "execution_count": null,
   "metadata": {},
   "outputs": [],
   "source": [
    "interact(f,my_onset=(0.0,30.0));"
   ]
  },
  {
   "cell_type": "markdown",
   "metadata": {},
   "source": [
    "### Hypothetisches Design"
   ]
  },
  {
   "cell_type": "markdown",
   "metadata": {},
   "source": [
    "Eine Minute passiert nichts:"
   ]
  },
  {
   "cell_type": "code",
   "execution_count": null,
   "metadata": {},
   "outputs": [],
   "source": [
    "beispiel_design = np.zeros(60)\n",
    "beispiel_design"
   ]
  },
  {
   "cell_type": "markdown",
   "metadata": {},
   "source": [
    "Ein Event bei Sekunde 30 hinzufügen"
   ]
  },
  {
   "cell_type": "code",
   "execution_count": null,
   "metadata": {},
   "outputs": [],
   "source": [
    "beispiel_design[30] = 1.0"
   ]
  },
  {
   "cell_type": "code",
   "execution_count": null,
   "metadata": {},
   "outputs": [],
   "source": [
    "beispiel_design"
   ]
  },
  {
   "cell_type": "markdown",
   "metadata": {},
   "source": [
    "Liste mit Events:"
   ]
  },
  {
   "cell_type": "code",
   "execution_count": null,
   "metadata": {},
   "outputs": [],
   "source": [
    "event_onsets = np.where(beispiel_design==1)[-1]\n",
    "event_onsets"
   ]
  },
  {
   "cell_type": "markdown",
   "metadata": {},
   "source": [
    "### Abbildung mit Events und erwarteter Aktivierung"
   ]
  },
  {
   "cell_type": "code",
   "execution_count": null,
   "metadata": {},
   "outputs": [],
   "source": [
    "plt.plot(np.convolve(beispiel_design,hrf_model))\n",
    "sns.rugplot(event_onsets,color='r',height=0.1,linewidth=5,alpha=0.8)\n",
    "plt.xlabel('Zeit in Sekunden')\n",
    "sns.despine()\n",
    "plt.show()"
   ]
  },
  {
   "cell_type": "markdown",
   "metadata": {},
   "source": [
    "### Noch mehr Events hinzufügen"
   ]
  },
  {
   "cell_type": "code",
   "execution_count": null,
   "metadata": {},
   "outputs": [],
   "source": [
    "beispiel_design[3] = 1.0\n",
    "beispiel_design[33] = 1.0\n",
    "beispiel_design[34] = 1.0\n",
    "beispiel_design[45] = 1.0"
   ]
  },
  {
   "cell_type": "code",
   "execution_count": null,
   "metadata": {},
   "outputs": [],
   "source": [
    "event_onsets = np.where(beispiel_design==1)[-1]\n",
    "event_onsets"
   ]
  },
  {
   "cell_type": "markdown",
   "metadata": {},
   "source": [
    "### Abbildung die zeigt was passiert, wenn sich HRFs überlappen"
   ]
  },
  {
   "cell_type": "code",
   "execution_count": null,
   "metadata": {},
   "outputs": [],
   "source": [
    "plt.figure(figsize=(16,6))\n",
    "for event in event_onsets:\n",
    "    single_hrf = np.zeros(60)\n",
    "    single_hrf[event] = 1.0\n",
    "    plt.plot(np.convolve(single_hrf,hrf_model),color='g',alpha=0.5)\n",
    "plt.plot([],color='g',alpha=0.5,label='einzelne HRFs')\n",
    "plt.plot(np.convolve(beispiel_design,hrf_model),label='Summe der HRFs')\n",
    "sns.rugplot(event_onsets,color='r',height=0.1,linewidth=5,alpha=0.8,label='Neuronale Aktivität')\n",
    "plt.legend(loc='best')\n",
    "plt.xlabel('Zeit in Sekunden')\n",
    "sns.despine()\n",
    "plt.show()"
   ]
  },
  {
   "cell_type": "markdown",
   "metadata": {},
   "source": [
    "### Design der Studie modellieren"
   ]
  },
  {
   "cell_type": "markdown",
   "metadata": {},
   "source": [
    "Anzahl der Volumen in der Zeitserie"
   ]
  },
  {
   "cell_type": "code",
   "execution_count": null,
   "metadata": {},
   "outputs": [],
   "source": [
    "number_of_volumes = image.load_img(epi_file).shape[-1]\n",
    "number_of_volumes"
   ]
  },
  {
   "cell_type": "markdown",
   "metadata": {},
   "source": [
    "Zeit in Sekunden = Anzahl Volumen x TR"
   ]
  },
  {
   "cell_type": "code",
   "execution_count": null,
   "metadata": {},
   "outputs": [],
   "source": [
    "beispiel_design = np.zeros(int(number_of_volumes*my_tr))\n",
    "beispiel_design.shape[-1]"
   ]
  },
  {
   "cell_type": "markdown",
   "metadata": {},
   "source": [
    "Onsets und Duration der Ruhebedingung"
   ]
  },
  {
   "cell_type": "code",
   "execution_count": null,
   "metadata": {},
   "outputs": [],
   "source": [
    "ruhe_onsets = design_df.loc['RUHE',['onset','duration']]\n",
    "ruhe_onsets"
   ]
  },
  {
   "cell_type": "markdown",
   "metadata": {},
   "source": [
    "Alle Onsets einer Bedingung"
   ]
  },
  {
   "cell_type": "code",
   "execution_count": null,
   "metadata": {},
   "outputs": [],
   "source": [
    "def make_onsets(df,number_of_volumes=number_of_volumes,my_tr=my_tr):\n",
    "    design = np.zeros(int(number_of_volumes*my_tr))\n",
    "    # für jede Zeile in der Tabelle\n",
    "    for start in range(df.shape[0]):\n",
    "        # Inhalte der Zeile\n",
    "        block = df.iloc[start]\n",
    "        # Onsets und Durations extrahieren\n",
    "        block_onset = block['onset']\n",
    "        block_duration = block['duration']\n",
    "        # Ab Onset so viele 1en einfügen wie der Block lang ist\n",
    "        for event in range(block_duration):\n",
    "            design[block_onset+event] = 1.\n",
    "    return design"
   ]
  },
  {
   "cell_type": "code",
   "execution_count": null,
   "metadata": {},
   "outputs": [],
   "source": [
    "beispiel_design = make_onsets(ruhe_onsets)"
   ]
  },
  {
   "cell_type": "code",
   "execution_count": null,
   "metadata": {},
   "outputs": [],
   "source": [
    "beispiel_design"
   ]
  },
  {
   "cell_type": "markdown",
   "metadata": {},
   "source": [
    "Original An/Aus Design (Boxcar) oder mit HRF verbunden"
   ]
  },
  {
   "cell_type": "code",
   "execution_count": null,
   "metadata": {},
   "outputs": [],
   "source": [
    "boxcar_design_in_tr = beispiel_design[::int(my_tr)]\n",
    "boxcar_design_in_tr"
   ]
  },
  {
   "cell_type": "code",
   "execution_count": null,
   "metadata": {},
   "outputs": [],
   "source": [
    "hrf_design_in_tr = np.convolve(beispiel_design,hrf_model)[::int(my_tr)]"
   ]
  },
  {
   "cell_type": "markdown",
   "metadata": {},
   "source": [
    "### Abbildung mit Daten und Modellen"
   ]
  },
  {
   "cell_type": "code",
   "execution_count": null,
   "metadata": {},
   "outputs": [],
   "source": [
    "plt.figure(figsize=(16,8))\n",
    "\n",
    "# die Daten der Seed-Region\n",
    "plt.plot(seed_df,color='grey',alpha=0.5)\n",
    "# die Ergebnisse der linearen Regression\n",
    "plt.plot([linreg_results.intercept+linreg_results.slope*x for x in seed_df.index],\n",
    "         label='Regressionslinie',color='y')\n",
    "\n",
    "# ein-aus-Design\n",
    "plt.plot(boxcar_design_in_tr,color='r',label='neuronaler Response')\n",
    "# HRF-Design\n",
    "plt.plot(hrf_design_in_tr,'b',label='erwartete hämodynamische Antwort')\n",
    "\n",
    "plt.legend(loc='best')\n",
    "\n",
    "plt.ylabel('z-transformiertes Signal')\n",
    "plt.xlabel('Zeit in Volumen')\n",
    "sns.despine(trim=True)\n",
    "plt.show()"
   ]
  },
  {
   "cell_type": "markdown",
   "metadata": {},
   "source": [
    "### Korrelation Daten mit Design"
   ]
  },
  {
   "cell_type": "code",
   "execution_count": null,
   "metadata": {},
   "outputs": [],
   "source": [
    "seed_df.corrwith(pd.Series(boxcar_design_in_tr))"
   ]
  },
  {
   "cell_type": "code",
   "execution_count": null,
   "metadata": {},
   "outputs": [],
   "source": [
    "seed_df.corrwith(pd.Series(hrf_design_in_tr))"
   ]
  },
  {
   "cell_type": "markdown",
   "metadata": {},
   "source": [
    "### Korrelation mit anderen Bedingungen"
   ]
  },
  {
   "cell_type": "code",
   "execution_count": null,
   "metadata": {},
   "outputs": [],
   "source": [
    "beispiel_design = make_onsets(design_df.loc['MOTORIK',['onset','duration']])\n",
    "boxcar_design_in_tr = beispiel_design[::int(my_tr)]\n",
    "hrf_design_in_tr = np.convolve(beispiel_design,hrf_model)[::int(my_tr)]"
   ]
  },
  {
   "cell_type": "code",
   "execution_count": null,
   "metadata": {},
   "outputs": [],
   "source": [
    "plt.figure(figsize=(16,8))\n",
    "\n",
    "# die Daten der Seed-Region\n",
    "plt.plot(seed_df,color='grey',alpha=0.5)\n",
    "# die Ergebnisse der linearen Regression\n",
    "plt.plot([linreg_results.intercept+linreg_results.slope*x for x in seed_df.index],\n",
    "         label='Regressionslinie',color='y')\n",
    "\n",
    "# ein-aus-Design\n",
    "plt.plot(boxcar_design_in_tr,color='r',label='neuronaler Response')\n",
    "# HRF-Design\n",
    "plt.plot(hrf_design_in_tr,'b',label='erwartete hämodynamische Antwort')\n",
    "\n",
    "plt.legend(loc='best')\n",
    "\n",
    "plt.ylabel('z-transformiertes Signal')\n",
    "plt.xlabel('Zeit in Volumen')\n",
    "sns.despine(trim=True)\n",
    "plt.show()"
   ]
  },
  {
   "cell_type": "markdown",
   "metadata": {},
   "source": [
    "### Korrelation jdes Voxels des Gehirns mit dem Design"
   ]
  },
  {
   "cell_type": "markdown",
   "metadata": {},
   "source": [
    "Whole-Brain Maske definieren"
   ]
  },
  {
   "cell_type": "code",
   "execution_count": null,
   "metadata": {},
   "outputs": [],
   "source": [
    "brain_masker = input_data.NiftiMasker(mask_img='../data/sub-01_task-imagery_run-02_bold_space-MNI152NLin2009cAsym_brainmask.nii.gz',\n",
    "                                            standardize=my_standard,\n",
    "                                            detrend=my_detrend,\n",
    "                                            smoothing_fwhm=my_smoo).fit()"
   ]
  },
  {
   "cell_type": "markdown",
   "metadata": {},
   "source": [
    "Daten auslesen"
   ]
  },
  {
   "cell_type": "code",
   "execution_count": null,
   "metadata": {},
   "outputs": [],
   "source": []
  },
  {
   "cell_type": "markdown",
   "metadata": {},
   "source": [
    "Daten in Tabelle packen"
   ]
  },
  {
   "cell_type": "code",
   "execution_count": null,
   "metadata": {},
   "outputs": [],
   "source": []
  },
  {
   "cell_type": "markdown",
   "metadata": {},
   "source": [
    "Design spezifizieren"
   ]
  },
  {
   "cell_type": "code",
   "execution_count": null,
   "metadata": {},
   "outputs": [],
   "source": []
  },
  {
   "cell_type": "markdown",
   "metadata": {},
   "source": [
    "Korrelationen rechnen"
   ]
  },
  {
   "cell_type": "code",
   "execution_count": null,
   "metadata": {},
   "outputs": [],
   "source": []
  },
  {
   "cell_type": "markdown",
   "metadata": {},
   "source": [
    "Korrelationen in Hirnbild umwandeln"
   ]
  },
  {
   "cell_type": "code",
   "execution_count": null,
   "metadata": {},
   "outputs": [],
   "source": []
  },
  {
   "cell_type": "markdown",
   "metadata": {},
   "source": [
    "Hirnbild visualisieren"
   ]
  },
  {
   "cell_type": "code",
   "execution_count": null,
   "metadata": {},
   "outputs": [],
   "source": []
  }
 ],
 "metadata": {
  "kernelspec": {
   "display_name": "Python 3 (seminar)",
   "language": "python",
   "name": "seminar"
  },
  "language_info": {
   "codemirror_mode": {
    "name": "ipython",
    "version": 3
   },
   "file_extension": ".py",
   "mimetype": "text/x-python",
   "name": "python",
   "nbconvert_exporter": "python",
   "pygments_lexer": "ipython3",
   "version": "3.7.2"
  }
 },
 "nbformat": 4,
 "nbformat_minor": 2
}
