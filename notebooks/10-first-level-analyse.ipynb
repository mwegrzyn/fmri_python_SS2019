{
 "cells": [
  {
   "cell_type": "markdown",
   "metadata": {},
   "source": [
    "# Vollständige First-Level Analyse"
   ]
  },
  {
   "cell_type": "markdown",
   "metadata": {},
   "source": [
    "### module importieren"
   ]
  },
  {
   "cell_type": "code",
   "execution_count": null,
   "metadata": {},
   "outputs": [],
   "source": [
    "import glob\n",
    "\n",
    "import numpy as np\n",
    "import pandas as pd\n",
    "from sklearn import preprocessing\n",
    "\n",
    "from nilearn import plotting, image, input_data\n",
    "from nistats import first_level_model, reporting, regression\n",
    "\n",
    "import seaborn as sns\n",
    "import matplotlib.pyplot as plt\n",
    "\n",
    "sns.set_context('talk')"
   ]
  },
  {
   "cell_type": "markdown",
   "metadata": {},
   "source": [
    "### Strukturelles Bild"
   ]
  },
  {
   "cell_type": "code",
   "execution_count": null,
   "metadata": {},
   "outputs": [],
   "source": [
    "mpr_img = '../data/sub-01_T1w_space-MNI152NLin2009cAsym_preproc.nii.gz'"
   ]
  },
  {
   "cell_type": "code",
   "execution_count": null,
   "metadata": {},
   "outputs": [],
   "source": [
    "plotting.plot_anat(mpr_img);"
   ]
  },
  {
   "cell_type": "markdown",
   "metadata": {},
   "source": [
    "### fMRT-Daten"
   ]
  },
  {
   "cell_type": "code",
   "execution_count": null,
   "metadata": {},
   "outputs": [],
   "source": [
    "fmri_img_list = glob.glob('../data/sub-01_task-imagery_run-0*_bold_space-MNI152NLin2009cAsym_preproc.nii.gz')\n",
    "fmri_img_list.sort()\n",
    "fmri_img_list = fmri_img_list[1:]\n",
    "fmri_img_list"
   ]
  },
  {
   "cell_type": "markdown",
   "metadata": {},
   "source": [
    "Beispiel:"
   ]
  },
  {
   "cell_type": "code",
   "execution_count": null,
   "metadata": {},
   "outputs": [],
   "source": [
    "mean_epi_img = image.mean_img(fmri_img_list[-1])\n",
    "plotting.plot_anat(mean_epi_img);"
   ]
  },
  {
   "cell_type": "markdown",
   "metadata": {},
   "source": [
    "### alle runs hintereinanderhängen"
   ]
  },
  {
   "cell_type": "code",
   "execution_count": null,
   "metadata": {},
   "outputs": [],
   "source": [
    "fmri_imgs = image.concat_imgs(fmri_img_list)"
   ]
  },
  {
   "cell_type": "markdown",
   "metadata": {},
   "source": [
    "wie viele Volumen sind in einem run?"
   ]
  },
  {
   "cell_type": "code",
   "execution_count": null,
   "metadata": {},
   "outputs": [],
   "source": [
    "n_volumes = image.load_img(fmri_img_list[-1]).shape[-1]\n",
    "n_volumes"
   ]
  },
  {
   "cell_type": "markdown",
   "metadata": {},
   "source": [
    "wie viele Volumen sind in der zusammengeführten Zeitserie?"
   ]
  },
  {
   "cell_type": "code",
   "execution_count": null,
   "metadata": {},
   "outputs": [],
   "source": [
    "fmri_imgs.shape"
   ]
  },
  {
   "cell_type": "markdown",
   "metadata": {},
   "source": [
    "### Das Design"
   ]
  },
  {
   "cell_type": "code",
   "execution_count": null,
   "metadata": {},
   "outputs": [],
   "source": [
    "onset_csvs = glob.glob('../data/sub-01_task-imagery_run-0*_events.tsv')\n",
    "onset_csvs.sort()\n",
    "onset_csvs = onset_csvs[1:]\n",
    "onset_csvs"
   ]
  },
  {
   "cell_type": "markdown",
   "metadata": {},
   "source": [
    "Beispiel (letzter run):"
   ]
  },
  {
   "cell_type": "code",
   "execution_count": null,
   "metadata": {
    "scrolled": true
   },
   "outputs": [],
   "source": [
    "pd.read_csv(onset_csvs[-1],sep='\\t')"
   ]
  },
  {
   "cell_type": "markdown",
   "metadata": {},
   "source": [
    "### die zu analysierende Bedingung auswählen (trial_type)"
   ]
  },
  {
   "cell_type": "code",
   "execution_count": null,
   "metadata": {},
   "outputs": [],
   "source": [
    "def make_onsets(csv_file):\n",
    "    df = pd.read_csv(csv_file,sep='\\t')\n",
    "    df.loc[:,'trial_num'] = [('0%s'%x)[-2:] for x in df.index.get_values().astype(str)]\n",
    "    df.loc[:,'trial_type'] = df.loc[:,'trial_domain']\n",
    "    return df"
   ]
  },
  {
   "cell_type": "code",
   "execution_count": null,
   "metadata": {
    "scrolled": true
   },
   "outputs": [],
   "source": [
    "onset_df = make_onsets(onset_csvs[-1])\n",
    "onset_df"
   ]
  },
  {
   "cell_type": "markdown",
   "metadata": {},
   "source": [
    "<font color=orange>__Modifikation:__ Statt trial_domain (die 5 Oberbedingungen), kann man auch eine andere Spalte der Onset-Tabelle nutzen um Bedingungen zu definieren</font>"
   ]
  },
  {
   "cell_type": "markdown",
   "metadata": {},
   "source": [
    "### Aus den Onsets das Design erstellen"
   ]
  },
  {
   "cell_type": "markdown",
   "metadata": {},
   "source": [
    "Meta-Informationen zu den runs"
   ]
  },
  {
   "cell_type": "code",
   "execution_count": null,
   "metadata": {},
   "outputs": [],
   "source": [
    "my_tr = 3\n",
    "my_duration = n_volumes*my_tr\n",
    "my_duration # dauer eines runs in sekunden (volumes x tr)"
   ]
  },
  {
   "cell_type": "markdown",
   "metadata": {},
   "source": [
    "Onsets mit HRF verbinden"
   ]
  },
  {
   "cell_type": "code",
   "execution_count": null,
   "metadata": {},
   "outputs": [],
   "source": [
    "def make_design(df,my_tr=my_tr,my_duration=my_duration):\n",
    "    frame_times = np.arange(0,my_duration,my_tr)\n",
    "    design_matrix = first_level_model.make_first_level_design_matrix(frame_times=frame_times,\n",
    "                                                                     events=df,\n",
    "                                                                     drift_model=None\n",
    "                                                                    )\n",
    "    return design_matrix"
   ]
  },
  {
   "cell_type": "markdown",
   "metadata": {},
   "source": [
    "Beispiel:"
   ]
  },
  {
   "cell_type": "code",
   "execution_count": null,
   "metadata": {},
   "outputs": [],
   "source": [
    "sns.heatmap(make_design(onset_df));"
   ]
  },
  {
   "cell_type": "markdown",
   "metadata": {},
   "source": [
    "<font color=orange>__Modifikation:__ Drifts in das Modell aufnehmen (drift_model)</font>\n",
    "\n",
    "<font color=red>__Modifikation:__ Den Cutoff des High-Pass Filter verändern</font>"
   ]
  },
  {
   "cell_type": "markdown",
   "metadata": {},
   "source": [
    "### Ein großes Design für alle 4 runs"
   ]
  },
  {
   "cell_type": "code",
   "execution_count": null,
   "metadata": {},
   "outputs": [],
   "source": [
    "def make_big_design(onset_csvs):\n",
    "    \n",
    "    design_matrix = pd.DataFrame()\n",
    "    for run_num,onset_csv in enumerate(onset_csvs):\n",
    "        this_onset = make_onsets(onset_csv)\n",
    "        this_design = make_design(this_onset)\n",
    "        this_design.index = this_design.index+my_duration*run_num\n",
    "        design_matrix = pd.concat([design_matrix, this_design],sort=False)\n",
    "        design_matrix = design_matrix.fillna(0)\n",
    "        design_matrix.columns = ['%s-run%s'%(c,run_num) for c in design_matrix.columns]\n",
    "\n",
    "    return design_matrix"
   ]
  },
  {
   "cell_type": "code",
   "execution_count": null,
   "metadata": {},
   "outputs": [],
   "source": [
    "design_matrix = make_big_design(onset_csvs)"
   ]
  },
  {
   "cell_type": "code",
   "execution_count": null,
   "metadata": {
    "scrolled": false
   },
   "outputs": [],
   "source": [
    "fig,ax = plt.subplots(1,1,figsize=(32,32))\n",
    "sns.heatmap(design_matrix,ax=ax,cmap='Greys_r')\n",
    "plt.show()"
   ]
  },
  {
   "cell_type": "markdown",
   "metadata": {},
   "source": [
    "### Ein Modell welches Daten und Design verbindet"
   ]
  },
  {
   "cell_type": "code",
   "execution_count": null,
   "metadata": {},
   "outputs": [],
   "source": [
    "fmri_glm = first_level_model.FirstLevelModel(t_r=3,\n",
    "                                             smoothing_fwhm=8\n",
    "                                            )"
   ]
  },
  {
   "cell_type": "markdown",
   "metadata": {},
   "source": [
    "<font color=green>__Modifikation:__ Der Grad an räumlicher Glättung kann variiert werden</font>  \n",
    "<font color=red>__Modifikation:__ Die Maske welche die zu analysierenden Voxel definiert kann aus ../data/ gewählt und hier angewendet werden</font>"
   ]
  },
  {
   "cell_type": "code",
   "execution_count": null,
   "metadata": {},
   "outputs": [],
   "source": [
    "fmri_glm = fmri_glm.fit(fmri_imgs,design_matrices=design_matrix)"
   ]
  },
  {
   "cell_type": "markdown",
   "metadata": {},
   "source": [
    "Welche Einstellungen hat das Modell?"
   ]
  },
  {
   "cell_type": "code",
   "execution_count": null,
   "metadata": {},
   "outputs": [],
   "source": [
    "fmri_glm"
   ]
  },
  {
   "cell_type": "markdown",
   "metadata": {},
   "source": [
    "Wie sieht der zu analysierende Bereich aus?"
   ]
  },
  {
   "cell_type": "code",
   "execution_count": null,
   "metadata": {},
   "outputs": [],
   "source": [
    "display = plotting.plot_anat(mean_epi_img)\n",
    "display.add_contours(fmri_glm.masker_.mask_img_)"
   ]
  },
  {
   "cell_type": "code",
   "execution_count": null,
   "metadata": {},
   "outputs": [],
   "source": [
    "display = plotting.plot_anat(mean_epi_img,display_mode='x')\n",
    "display.add_contours(fmri_glm.masker_.mask_img_)"
   ]
  },
  {
   "cell_type": "markdown",
   "metadata": {},
   "source": [
    "### Wie korrelieren die Regressoren der Design-Matrix miteinander?"
   ]
  },
  {
   "cell_type": "code",
   "execution_count": null,
   "metadata": {},
   "outputs": [],
   "source": [
    "design_matrix = fmri_glm.design_matrices_[-1]"
   ]
  },
  {
   "cell_type": "code",
   "execution_count": null,
   "metadata": {},
   "outputs": [],
   "source": [
    "corr_df = design_matrix.corr()"
   ]
  },
  {
   "cell_type": "code",
   "execution_count": null,
   "metadata": {},
   "outputs": [],
   "source": [
    "fig,ax = plt.subplots(1,1,figsize=(32,32))\n",
    "sns.heatmap(corr_df,\n",
    "            cmap='RdBu_r',\n",
    "            square=True,\n",
    "            vmin=-1,\n",
    "            vmax=1,\n",
    "            ax=ax)\n",
    "plt.show()"
   ]
  },
  {
   "cell_type": "markdown",
   "metadata": {},
   "source": [
    "## Ergebnisse berechnen"
   ]
  },
  {
   "cell_type": "markdown",
   "metadata": {},
   "source": [
    "Wie viele runs haben wir?"
   ]
  },
  {
   "cell_type": "code",
   "execution_count": null,
   "metadata": {},
   "outputs": [],
   "source": [
    "n_runs = len(fmri_img_list)\n",
    "n_runs"
   ]
  },
  {
   "cell_type": "markdown",
   "metadata": {},
   "source": [
    "###  Die Bedingungen definieren"
   ]
  },
  {
   "cell_type": "markdown",
   "metadata": {},
   "source": [
    "Jeder der Bedingungen wird mit 1en an den Stellen an denen sie in der Design-Matrix vorkommt definiert"
   ]
  },
  {
   "cell_type": "code",
   "execution_count": null,
   "metadata": {},
   "outputs": [],
   "source": [
    "conditions = {\n",
    "    'emotion':   np.array([1., 0., 0., 0., 0., 0.]*n_runs),\n",
    "    'gesichter': np.array([0., 1., 0., 0., 0., 0.]*n_runs),\n",
    "}"
   ]
  },
  {
   "cell_type": "code",
   "execution_count": null,
   "metadata": {},
   "outputs": [],
   "source": [
    "def show_conds(conditions):\n",
    "    con_df = pd.DataFrame(conditions).T\n",
    "    plt.figure(figsize=(16,4))\n",
    "    sns.heatmap(con_df,\n",
    "                square=True,cbar=False,cmap='Greys_r',annot=True);\n",
    "    plt.show()"
   ]
  },
  {
   "cell_type": "code",
   "execution_count": null,
   "metadata": {},
   "outputs": [],
   "source": [
    "show_conds(conditions)"
   ]
  },
  {
   "cell_type": "markdown",
   "metadata": {},
   "source": [
    "<font color=green>__Modifikation:__ Die fehlenden Bedingungen hinzufügen</font>"
   ]
  },
  {
   "cell_type": "markdown",
   "metadata": {},
   "source": [
    "### Einen Kontrast definieren"
   ]
  },
  {
   "cell_type": "code",
   "execution_count": null,
   "metadata": {},
   "outputs": [],
   "source": [
    "contrast = conditions['emotion'] - conditions['gesichter']"
   ]
  },
  {
   "cell_type": "markdown",
   "metadata": {},
   "source": [
    "<font color=green>__Modifikation:__ Andere Vergleiche von zwei Bedinungen rechnen</font>  \n",
    "<font color=orange>__Modifikation:__ Eine Bedingung gegen alle anderen vergleichen</font>  \n",
    "<font color=red>__Modifikation:__ Eine 1-faktorielle ANOVA mit 5 Stufen formulieren</font>"
   ]
  },
  {
   "cell_type": "code",
   "execution_count": null,
   "metadata": {},
   "outputs": [],
   "source": [
    "def show_conts(contrast,design_matrix=design_matrix):\n",
    "    con_df = pd.DataFrame(contrast,index=design_matrix.columns).T\n",
    "    plt.figure(figsize=(16,4))\n",
    "    sns.heatmap(con_df,\n",
    "                square=True,cbar=False,cmap='Greys_r',annot=True);\n",
    "    plt.yticks([])\n",
    "    plt.show()"
   ]
  },
  {
   "cell_type": "code",
   "execution_count": null,
   "metadata": {},
   "outputs": [],
   "source": [
    "show_conts(contrast)"
   ]
  },
  {
   "cell_type": "markdown",
   "metadata": {},
   "source": [
    "### Eine Ergebniskarte generieren"
   ]
  },
  {
   "cell_type": "code",
   "execution_count": null,
   "metadata": {
    "scrolled": true
   },
   "outputs": [],
   "source": [
    "result_map = fmri_glm.compute_contrast(contrast)"
   ]
  },
  {
   "cell_type": "markdown",
   "metadata": {},
   "source": [
    "<font color=green>__Modifikation:__ z-Werte, t-Werte und p-Werte plotten</font>  \n",
    "<font color=red>__Modifikation:__ Eine 1-faktorielle ANOVA rechnen</font>"
   ]
  },
  {
   "cell_type": "markdown",
   "metadata": {},
   "source": [
    "### Die Karte visualisieren"
   ]
  },
  {
   "cell_type": "code",
   "execution_count": null,
   "metadata": {
    "scrolled": true
   },
   "outputs": [],
   "source": [
    "display = plotting.view_img(result_map,bg_img=mpr_img,threshold=3)"
   ]
  },
  {
   "cell_type": "markdown",
   "metadata": {},
   "source": [
    "<font color=green>__Modifikation:__ Einen anderen Schwellenwert auswählen</font>  \n",
    "<font color=red>__Modifikation:__ Eine Karte mit t-Werten plotten, die bei p<0.001 gethresholded ist</font>  "
   ]
  },
  {
   "cell_type": "code",
   "execution_count": null,
   "metadata": {},
   "outputs": [],
   "source": [
    "display"
   ]
  },
  {
   "cell_type": "markdown",
   "metadata": {},
   "source": [
    "<font color=green>__Modifikation:__ display in neuem Fenster im Vollbildmodus öffnen</font>  \n",
    "<font color=red>__Modifikation:__ Eine Tabelle mit Aktivierungen als Koordinaten ausgeben lassen</font>"
   ]
  },
  {
   "cell_type": "code",
   "execution_count": null,
   "metadata": {},
   "outputs": [],
   "source": []
  }
 ],
 "metadata": {
  "kernelspec": {
   "display_name": "Python 3 (seminar)",
   "language": "python",
   "name": "seminar"
  },
  "language_info": {
   "codemirror_mode": {
    "name": "ipython",
    "version": 3
   },
   "file_extension": ".py",
   "mimetype": "text/x-python",
   "name": "python",
   "nbconvert_exporter": "python",
   "pygments_lexer": "ipython3",
   "version": "3.7.2"
  }
 },
 "nbformat": 4,
 "nbformat_minor": 2
}
