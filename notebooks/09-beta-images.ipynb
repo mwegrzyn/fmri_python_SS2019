{
 "cells": [
  {
   "cell_type": "markdown",
   "metadata": {},
   "source": [
    "# \"Beta\" Images\n",
    "\n",
    "${ y = \\alpha + \\beta*x }$\n",
    "\n",
    "Wie kann man numerisch ausdrücken, wie gut der Signalverlauf an jeder Stelle im Gehirn dem Modell der erwarteten Hirnaktivität entspricht?"
   ]
  },
  {
   "cell_type": "markdown",
   "metadata": {},
   "source": [
    "### module importieren"
   ]
  },
  {
   "cell_type": "code",
   "execution_count": null,
   "metadata": {},
   "outputs": [],
   "source": [
    "import numpy as np\n",
    "import pandas as pd\n",
    "\n",
    "from sklearn.datasets import samples_generator\n",
    "\n",
    "from nilearn import plotting, image, input_data\n",
    "from nistats import first_level_model, reporting, regression\n",
    "\n",
    "import seaborn as sns\n",
    "import matplotlib.pyplot as plt\n",
    "import matplotlib\n",
    "\n",
    "from ipywidgets import interact\n",
    "\n",
    "sns.set_context('talk')"
   ]
  },
  {
   "cell_type": "markdown",
   "metadata": {},
   "source": [
    "## Teil 1: hypothetische Verhaltensdaten mit zwei Bedingungen\n",
    "\n",
    "Im einfachsten Fall haben wir statt einem Signalverlauf mit vielen Abstufungen auf der x-Achse, ein einfaches 2-Stichproben-Design mit zwei Abstufungen auf der x-Achse. Die zwei Bedingungen sind Dummy-Kodiert als Bedingung \"0\" und Bedingung \"1\". Uns interessiert, wie sich die Bedingung \"1\" von der Bedingung \"0\" unterscheidet."
   ]
  },
  {
   "cell_type": "markdown",
   "metadata": {},
   "source": [
    "### wir simulieren einen Datensatz\n",
    "\n",
    "vgl. https://machinelearningmastery.com/generate-test-datasets-python-scikit-learn/"
   ]
  },
  {
   "cell_type": "markdown",
   "metadata": {},
   "source": [
    "Daten erstellen"
   ]
  },
  {
   "cell_type": "code",
   "execution_count": null,
   "metadata": {},
   "outputs": [],
   "source": [
    "observations, labels = samples_generator.make_blobs(n_samples=100,\n",
    "                                                    centers=2, \n",
    "                                                    n_features=1,\n",
    "                                                    random_state=5)"
   ]
  },
  {
   "cell_type": "markdown",
   "metadata": {},
   "source": [
    "In Tabelle packen"
   ]
  },
  {
   "cell_type": "code",
   "execution_count": null,
   "metadata": {},
   "outputs": [],
   "source": [
    "df = pd.DataFrame(dict(y=observations[:,0],x=labels))\n",
    "df.tail()"
   ]
  },
  {
   "cell_type": "markdown",
   "metadata": {},
   "source": [
    "Visualisieren"
   ]
  },
  {
   "cell_type": "code",
   "execution_count": null,
   "metadata": {},
   "outputs": [],
   "source": [
    "sns.swarmplot(data=df,x='x',y='y')\n",
    "plt.ylim(-10,10)\n",
    "sns.despine(bottom=True,trim=True,offset=1)\n",
    "plt.show()"
   ]
  },
  {
   "cell_type": "markdown",
   "metadata": {},
   "source": [
    "### Ein Modell erstellen\n",
    "\n",
    "Das Modell soll ausdrücken, was für einen Zusammenhang wir in den Daten erwarten. Das Modell kann simpel sein oder komplex. D.h. es kann aus einem oder mehreren Regressoren bestehen, welche die Daten erklären. Wir würden gerne in unserem Modell ausdrücken, dass Bedingung \"1\" mehr macht als Bedingung \"0\".  \n",
    "Das folgende wäre ein erster Versuch:"
   ]
  },
  {
   "cell_type": "code",
   "execution_count": null,
   "metadata": {},
   "outputs": [],
   "source": [
    "design_matrix = np.array([[0,1]]).T\n",
    "design_matrix"
   ]
  },
  {
   "cell_type": "code",
   "execution_count": null,
   "metadata": {},
   "outputs": [],
   "source": [
    "design_df = pd.DataFrame(design_matrix,columns=['mein Modell'],index=['bedingung1','bedingung2'])\n",
    "design_df"
   ]
  },
  {
   "cell_type": "code",
   "execution_count": null,
   "metadata": {},
   "outputs": [],
   "source": [
    "sns.heatmap(design_df,annot=True,cmap='Greys_r')\n",
    "plt.yticks(rotation=360) # sic\n",
    "plt.ylabel('Abstufungen auf der x-Achse')\n",
    "plt.xlabel('Regressoren')\n",
    "plt.show()"
   ]
  },
  {
   "cell_type": "markdown",
   "metadata": {},
   "source": [
    "#### Interaktiver Plot: \n",
    "Hier probieren wir aus, welche Gewichtung wir dem ersten (und einzigen) Regressor in unserem Modell geben müssen, damit er so viel Varianz wie möglich in unserem Modell erklärt:"
   ]
  },
  {
   "cell_type": "code",
   "execution_count": null,
   "metadata": {},
   "outputs": [],
   "source": [
    "def make_plot(weight1):\n",
    "    sns.swarmplot(data=df,x='x',y='y')\n",
    "    \n",
    "    observed = df.groupby('x').mean().values.ravel() # der Einfachheit halber beschreiben wir die Daten hier nur durch ihren Mittelwert; das ist aber nicht korrekt, weil es die Varianz innerhalb der Bedingungen ignoriert\n",
    "    predicted = (design_matrix*weight1).ravel()\n",
    "\n",
    "    residual = ((observed-predicted)**2).sum()\n",
    "    plt.title('sum of squared errors=%.2f'%residual)\n",
    "    plt.plot(predicted)\n",
    "    plt.ylim(-10,10)\n",
    "    sns.despine(bottom=True,trim=True,offset=1)\n",
    "    plt.show()"
   ]
  },
  {
   "cell_type": "code",
   "execution_count": null,
   "metadata": {},
   "outputs": [],
   "source": [
    "interact(make_plot,weight1=(-20,20));"
   ]
  },
  {
   "cell_type": "markdown",
   "metadata": {},
   "source": [
    "Was ist hier das Problem? Was müssen wir an unserem Modell ändern?"
   ]
  },
  {
   "cell_type": "markdown",
   "metadata": {},
   "source": [
    "### Variante 2"
   ]
  },
  {
   "cell_type": "code",
   "execution_count": null,
   "metadata": {},
   "outputs": [],
   "source": [
    "design_matrix = np.array([[0,1],[1,0]]).T\n",
    "design_matrix"
   ]
  },
  {
   "cell_type": "code",
   "execution_count": null,
   "metadata": {},
   "outputs": [],
   "source": [
    "sns.heatmap(pd.DataFrame(design_matrix,columns=['regressor1','regressor2'],\n",
    "                         index=['bedingung1','bedingung2']),\n",
    "            annot=True,\n",
    "            cmap='Greys_r')\n",
    "\n",
    "plt.yticks(rotation=360)\n",
    "plt.show()"
   ]
  },
  {
   "cell_type": "markdown",
   "metadata": {},
   "source": [
    "Es ist plausibel anzunehmen, dass, um die Daten erschöpfend zu beschreiben, beide Bedingungen im Modell vorkommen müssen. Das führt aber die zusätzliche Komplexität ein, nämlich dass wir anschließend überlegen müssen, welche Kombination dieser Regressoren eigentlich ausdrückt, wie Bedingung \"1\" sich von Bedingung \"0\" unterscheidet."
   ]
  },
  {
   "cell_type": "code",
   "execution_count": null,
   "metadata": {},
   "outputs": [],
   "source": [
    "def make_plot(weight1,weight2):\n",
    "    sns.swarmplot(data=df,x='x',y='y')\n",
    "    prediction1 = design_matrix[:,0]*weight1\n",
    "    prediction2 = design_matrix[:,1]*weight2\n",
    "\n",
    "    sum_of_predictions = prediction1 + prediction2\n",
    "    plt.plot(sum_of_predictions,label='sum of preds')\n",
    "    \n",
    "    plt.plot(prediction1,'--',label='pred1')\n",
    "    plt.plot(prediction2,'--',label='pred2')\n",
    "    \n",
    "    \n",
    "    observed = df.groupby('x').mean().values.ravel()\n",
    "    predicted = sum_of_predictions.ravel()\n",
    "    residual = ((observed-predicted)**2).sum()\n",
    "    plt.title('sum of squared errors=%.2f'%residual)\n",
    "    \n",
    "    plt.ylim(-10,10)\n",
    "    sns.despine(bottom=True,trim=True,offset=1)\n",
    "    plt.legend(loc=(1,0.8))\n",
    "    plt.show()"
   ]
  },
  {
   "cell_type": "code",
   "execution_count": null,
   "metadata": {},
   "outputs": [],
   "source": [
    "interact(make_plot,weight1=(-10,10),weight2=(-10,10));"
   ]
  },
  {
   "cell_type": "markdown",
   "metadata": {},
   "source": [
    "Wie kann nun ausgedrückt werden, wie sich Bedingung 1 von 0 unterscheidet?"
   ]
  },
  {
   "cell_type": "markdown",
   "metadata": {},
   "source": [
    "### Variante 3: ein Modell mit einer \"Konstante\""
   ]
  },
  {
   "cell_type": "code",
   "execution_count": null,
   "metadata": {},
   "outputs": [],
   "source": [
    "design_matrix = np.array([[0,1],[1,1]]).T\n",
    "design_matrix"
   ]
  },
  {
   "cell_type": "code",
   "execution_count": null,
   "metadata": {},
   "outputs": [],
   "source": [
    "sns.heatmap(pd.DataFrame(design_matrix,columns=['regressor1\\n(bedingung 1)','regressor2\\n(constant)'],\n",
    "                         index=['bedingung1','bedingung2']),\n",
    "            annot=True,\n",
    "            cmap='Greys_r')\n",
    "\n",
    "plt.yticks(rotation=360)\n",
    "plt.show()"
   ]
  },
  {
   "cell_type": "code",
   "execution_count": null,
   "metadata": {},
   "outputs": [],
   "source": [
    "def make_plot(weight1,weight2):\n",
    "    sns.swarmplot(data=df,x='x',y='y')\n",
    "    prediction1 = design_matrix[:,0]*weight1\n",
    "    prediction2 = design_matrix[:,1]*weight2\n",
    "\n",
    "    sum_of_predictions = prediction1 + prediction2\n",
    "    plt.plot(sum_of_predictions,label='sum of preds')\n",
    "    \n",
    "    plt.plot(prediction1,'--',label='pred1')\n",
    "    plt.plot(prediction2,'--',label='pred2')\n",
    "    \n",
    "    \n",
    "    observed = df.groupby('x').mean().values.ravel()\n",
    "    predicted = sum_of_predictions.ravel()\n",
    "    residual = ((observed-predicted)**2).sum()\n",
    "    plt.title('sum of squared errors=%.2f'%residual)\n",
    "    \n",
    "    plt.ylim(-10,10)\n",
    "    sns.despine(bottom=True,trim=True,offset=1)\n",
    "    plt.legend(loc=(1,0.8))\n",
    "    plt.show()"
   ]
  },
  {
   "cell_type": "code",
   "execution_count": null,
   "metadata": {},
   "outputs": [],
   "source": [
    "interact(make_plot,weight1=(-10,20),weight2=(-10,10));"
   ]
  },
  {
   "cell_type": "markdown",
   "metadata": {},
   "source": [
    "* Was drücken die Gewichtungen der jeweiligen Regressoren aus? \n",
    "* Wie kann der Mittelwert von Bedingung 0 ausgedrückt werden? \n",
    "* Wie der Mittelwert von Bedingung 1? \n",
    "* Wie die Differenz der beiden Bedingungen?"
   ]
  },
  {
   "cell_type": "markdown",
   "metadata": {},
   "source": [
    "Wie könnten wir dieses Modell zu dieser Formel in Beziehung setzen?  \n",
    "\n",
    "$${ y = \\alpha + \\beta*x }$$  \n",
    "\n",
    "Was ist hier alpha, was beta? Macht es Sinn, dass alpha einen additiven Zusammenhang zu unseren Daten hat, während beta einen multiplikativen Zusammenhang hat?"
   ]
  },
  {
   "cell_type": "markdown",
   "metadata": {},
   "source": [
    "### Variante 4: Jede Bedingung hat einen Regressor und es gibt eine Konstante"
   ]
  },
  {
   "cell_type": "code",
   "execution_count": null,
   "metadata": {},
   "outputs": [],
   "source": [
    "design_matrix = np.array([[0,1],[1,0],[1,1]]).T\n",
    "design_matrix"
   ]
  },
  {
   "cell_type": "code",
   "execution_count": null,
   "metadata": {},
   "outputs": [],
   "source": [
    "plt.figure(figsize=(10,3))\n",
    "sns.heatmap(pd.DataFrame(design_matrix,columns=['regressor1\\n(bedingung 1)','regressor2\\n(bedingung 2)','regressor3\\n(constant)'],\n",
    "                         index=['bedingung1','bedingung2']),\n",
    "            annot=True,\n",
    "            cmap='Greys_r')\n",
    "\n",
    "plt.yticks(rotation=360)\n",
    "plt.show()"
   ]
  },
  {
   "cell_type": "code",
   "execution_count": null,
   "metadata": {},
   "outputs": [],
   "source": [
    "def make_plot(weight1,weight2,weight3):\n",
    "    sns.swarmplot(data=df,x='x',y='y')\n",
    "    prediction1 = design_matrix[:,0]*weight1\n",
    "    prediction2 = design_matrix[:,1]*weight2\n",
    "    prediction3 = design_matrix[:,2]*weight3\n",
    "    \n",
    "    sum_of_predictions = prediction1 + prediction2 + prediction3\n",
    "    plt.plot(sum_of_predictions,label='sum of preds')\n",
    "    \n",
    "    plt.plot(prediction1,'--',label='pred1')\n",
    "    plt.plot(prediction2,'--',label='pred2')\n",
    "    plt.plot(prediction3,'--',label='pred3')\n",
    "    \n",
    "    observed = df.groupby('x').mean().values.ravel()\n",
    "    predicted = sum_of_predictions.ravel()\n",
    "    residual = ((observed-predicted)**2).sum()\n",
    "    plt.title('sum of squared errors=%.2f'%residual)\n",
    "    \n",
    "    plt.ylim(-10,10)\n",
    "    sns.despine(bottom=True,trim=True,offset=1)\n",
    "    plt.legend(loc=(1,0.8))\n",
    "    plt.show()"
   ]
  },
  {
   "cell_type": "code",
   "execution_count": null,
   "metadata": {},
   "outputs": [],
   "source": [
    "interact(make_plot,weight1=(-10,20),weight2=(-10,10),weight3=(-10,10));"
   ]
  },
  {
   "cell_type": "markdown",
   "metadata": {},
   "source": [
    "Macht es Sinn, 3 Regressoren zu haben? Erleichtert es die Interpretation?"
   ]
  },
  {
   "cell_type": "markdown",
   "metadata": {},
   "source": [
    "## Das gleiche Prinzip, angewendet auf unsere fMRT-Daten\n",
    "\n",
    "Wir machen alles genauso wie bisher, nur dass wir statt zweier Bedingungen nun davon ausgehen, dass es einen Signalverlauf mit 203 Zeitpunkten gibt "
   ]
  },
  {
   "cell_type": "markdown",
   "metadata": {},
   "source": [
    "### Das Design"
   ]
  },
  {
   "cell_type": "code",
   "execution_count": null,
   "metadata": {},
   "outputs": [],
   "source": [
    "df = pd.read_csv('../data/sub-01_task-imagery_run-02_events.tsv',sep='\\t')\n",
    "df = df.rename(columns={'trial_domain':'trial_type'})"
   ]
  },
  {
   "cell_type": "code",
   "execution_count": null,
   "metadata": {},
   "outputs": [],
   "source": [
    "df"
   ]
  },
  {
   "cell_type": "markdown",
   "metadata": {},
   "source": [
    "#### Der Einfachheit halber nehmen wir uns erstmal nur die Bedingung Sprache vor und vergleichen sie mit allen anderen Zeitpunkten"
   ]
  },
  {
   "cell_type": "code",
   "execution_count": null,
   "metadata": {},
   "outputs": [],
   "source": [
    "df = df[df.loc[:,'trial_type']=='SPRACHE']"
   ]
  },
  {
   "cell_type": "code",
   "execution_count": null,
   "metadata": {},
   "outputs": [],
   "source": [
    "df"
   ]
  },
  {
   "cell_type": "markdown",
   "metadata": {},
   "source": [
    "### Wir laden die fMRT Daten"
   ]
  },
  {
   "cell_type": "code",
   "execution_count": null,
   "metadata": {},
   "outputs": [],
   "source": [
    "fmri_img = '../data/sub-01_task-imagery_run-02_bold_space-MNI152NLin2009cAsym_preproc.nii.gz'\n",
    "fmri_img = image.smooth_img(fmri_img,fwhm=8)"
   ]
  },
  {
   "cell_type": "markdown",
   "metadata": {},
   "source": [
    "### Wir verbinden Daten und Design"
   ]
  },
  {
   "cell_type": "code",
   "execution_count": null,
   "metadata": {},
   "outputs": [],
   "source": [
    "fmri_glm = first_level_model.FirstLevelModel(t_r=3,\n",
    "                                             hrf_model='spm',\n",
    "                                             noise_model='ols',\n",
    "                                             drift_model=None,\n",
    "                                             standardize=False,\n",
    "                                             signal_scaling=False\n",
    "                                            )"
   ]
  },
  {
   "cell_type": "code",
   "execution_count": null,
   "metadata": {},
   "outputs": [],
   "source": [
    "fmri_glm = fmri_glm.fit(fmri_img, df)"
   ]
  },
  {
   "cell_type": "code",
   "execution_count": null,
   "metadata": {},
   "outputs": [],
   "source": [
    "fmri_glm"
   ]
  },
  {
   "cell_type": "markdown",
   "metadata": {},
   "source": [
    "### Es gibt nun auch eine Design-Matrix"
   ]
  },
  {
   "cell_type": "code",
   "execution_count": null,
   "metadata": {},
   "outputs": [],
   "source": [
    "design_matrix = fmri_glm.design_matrices_[-1]"
   ]
  },
  {
   "cell_type": "markdown",
   "metadata": {},
   "source": [
    "Visualisierung mit der Zeit auf der x-Achse"
   ]
  },
  {
   "cell_type": "code",
   "execution_count": null,
   "metadata": {
    "scrolled": false
   },
   "outputs": [],
   "source": [
    "for column in design_matrix:\n",
    "    plt.plot(design_matrix.loc[:,column])\n",
    "    plt.title(column)\n",
    "    sns.despine()\n",
    "    plt.show()"
   ]
  },
  {
   "cell_type": "markdown",
   "metadata": {},
   "source": [
    "Das gleiche aus der \"Vogelperspektive\" mit Zeit auf der y-Achse"
   ]
  },
  {
   "cell_type": "code",
   "execution_count": null,
   "metadata": {},
   "outputs": [],
   "source": [
    "sns.heatmap(design_matrix,cmap='Greys_r');"
   ]
  },
  {
   "cell_type": "markdown",
   "metadata": {},
   "source": [
    "## Finden der Gewichte (betas), so dass die beiden Regressoren die Daten möglichst gut beschreiben"
   ]
  },
  {
   "cell_type": "markdown",
   "metadata": {},
   "source": [
    "### Wir picken uns die Daten aus einem Voxel aus"
   ]
  },
  {
   "cell_type": "code",
   "execution_count": null,
   "metadata": {},
   "outputs": [],
   "source": [
    "language_seed = (-55,10,20)"
   ]
  },
  {
   "cell_type": "code",
   "execution_count": null,
   "metadata": {},
   "outputs": [],
   "source": [
    "seed_masker = input_data.NiftiSpheresMasker(seeds=[language_seed],radius=1).fit()"
   ]
  },
  {
   "cell_type": "code",
   "execution_count": null,
   "metadata": {},
   "outputs": [],
   "source": [
    "voxel_data = seed_masker.transform(fmri_img)"
   ]
  },
  {
   "cell_type": "code",
   "execution_count": null,
   "metadata": {},
   "outputs": [],
   "source": [
    "plt.figure(figsize=(14,5))\n",
    "plt.plot(voxel_data,label='beobachtete Daten')\n",
    "plt.xlabel('Zeitverlauf in TR')\n",
    "plt.ylabel('Rohes fMRT-Signal')\n",
    "plt.legend()\n",
    "sns.despine()\n",
    "plt.show()"
   ]
  },
  {
   "cell_type": "markdown",
   "metadata": {},
   "source": [
    "### Mit nur einem Regressor:"
   ]
  },
  {
   "cell_type": "code",
   "execution_count": null,
   "metadata": {},
   "outputs": [],
   "source": [
    "def make_plot(weight1):#,weight2):\n",
    "    \n",
    "    plt.plot(voxel_data)\n",
    "    prediction1 = (design_matrix.loc[:,'SPRACHE']*weight1).values\n",
    "   # prediction2 = (design_matrix.loc[:,'constant']*weight2).values\n",
    "\n",
    "    sum_of_predictions = prediction1# + prediction2\n",
    "    #plt.plot(sum_of_predictions,label='sum of preds')\n",
    "    \n",
    "    plt.plot(prediction1,'--',label='pred1')\n",
    "    #plt.plot(prediction2,'--',label='pred2')\n",
    "    \n",
    "    observed = voxel_data.ravel()\n",
    "    predicted = sum_of_predictions.ravel()\n",
    "    residual = ((observed-predicted)**2).sum()\n",
    "    plt.title('sum of squared errors=%.2f'%residual)\n",
    "    \n",
    "    sns.despine(bottom=True,trim=True,offset=1)\n",
    "    plt.legend(loc=(1,0.8))\n",
    "    plt.show()"
   ]
  },
  {
   "cell_type": "code",
   "execution_count": null,
   "metadata": {},
   "outputs": [],
   "source": [
    "interact(make_plot,\n",
    "         weight1=(-1000,1000,10));"
   ]
  },
  {
   "cell_type": "markdown",
   "metadata": {},
   "source": [
    "Die Konstante ist die einfachste Form von \"Störvariablen\". Ohne sie würde der Fit der HRF nicht gut funktionieren. Erst wenn wir sie mit aufnehmen, können wir durch Manipulation der Gewichtung der HRF die Daten fitten."
   ]
  },
  {
   "cell_type": "code",
   "execution_count": null,
   "metadata": {},
   "outputs": [],
   "source": [
    "def make_plot(weight1,weight2):\n",
    "    plt.plot(voxel_data)\n",
    "    prediction1 = (design_matrix.loc[:,'SPRACHE']*weight1).values\n",
    "    prediction2 = (design_matrix.loc[:,'constant']*weight2).values\n",
    "\n",
    "    sum_of_predictions = prediction1 + prediction2\n",
    "    plt.plot(sum_of_predictions,label='sum of preds')\n",
    "    \n",
    "    #plt.plot(prediction1,'--',label='pred1')\n",
    "    #plt.plot(prediction2,'--',label='pred2')\n",
    "    \n",
    "    observed = voxel_data.ravel()\n",
    "    predicted = sum_of_predictions.ravel()\n",
    "    residual = ((observed-predicted)**2).sum()\n",
    "    \n",
    "    plt.title('sum of squared errors=%.2f'%residual)\n",
    "    \n",
    "    sns.despine(bottom=True,trim=True,offset=1)\n",
    "    plt.legend(loc=(1,0.8))\n",
    "    plt.show()"
   ]
  },
  {
   "cell_type": "code",
   "execution_count": null,
   "metadata": {},
   "outputs": [],
   "source": [
    "interact(make_plot,\n",
    "         weight1=(-20,20),\n",
    "         weight2=(0,790));"
   ]
  },
  {
   "cell_type": "markdown",
   "metadata": {},
   "source": [
    "## Variante 2: \"Explizite Baseline\""
   ]
  },
  {
   "cell_type": "markdown",
   "metadata": {},
   "source": [
    "Wir fügen einen zweiten Regressor hinzu, der die Zeitpunkte ohne Sprache modellieren soll."
   ]
  },
  {
   "cell_type": "code",
   "execution_count": null,
   "metadata": {},
   "outputs": [],
   "source": [
    "design_matrix.loc[:,'BASELINE'] = 1-design_matrix.loc[:,'SPRACHE']\n",
    "design_matrix = design_matrix[['SPRACHE','BASELINE','constant']]"
   ]
  },
  {
   "cell_type": "code",
   "execution_count": null,
   "metadata": {},
   "outputs": [],
   "source": [
    "for column in design_matrix:\n",
    "    plt.plot(design_matrix.loc[:,column])\n",
    "    plt.title(column)\n",
    "    sns.despine()\n",
    "    plt.show()"
   ]
  },
  {
   "cell_type": "code",
   "execution_count": null,
   "metadata": {},
   "outputs": [],
   "source": [
    "sns.heatmap(design_matrix,cmap='Greys_r');"
   ]
  },
  {
   "cell_type": "markdown",
   "metadata": {},
   "source": [
    "#### Wir versuchen die besten Gewichtungen (betas) für diese drei Regressoren zu finden"
   ]
  },
  {
   "cell_type": "code",
   "execution_count": null,
   "metadata": {},
   "outputs": [],
   "source": [
    "def make_plot(weight1,weight2,weight3):\n",
    "    plt.plot(voxel_data)\n",
    "    prediction1 = (design_matrix.loc[:,'SPRACHE']*weight1).values\n",
    "    prediction2 = (design_matrix.loc[:,'BASELINE']*weight2).values\n",
    "    prediction3 = (design_matrix.loc[:,'constant']*weight3).values\n",
    "\n",
    "    sum_of_predictions = prediction1 + prediction2 + prediction3\n",
    "    plt.plot(sum_of_predictions,label='sum of preds')\n",
    "\n",
    "    observed = voxel_data.ravel()\n",
    "    predicted = sum_of_predictions.ravel()\n",
    "    residual = ((observed-predicted)**2).sum()\n",
    "    \n",
    "    plt.title('sum of squared errors=%.2f'%residual)\n",
    "    \n",
    "    sns.despine(bottom=True,trim=True,offset=1)\n",
    "    plt.legend(loc=(1,0.8))\n",
    "    plt.show()"
   ]
  },
  {
   "cell_type": "code",
   "execution_count": null,
   "metadata": {},
   "outputs": [],
   "source": [
    "interact(make_plot,\n",
    "         weight1=(-20,20),\n",
    "        weight2=(-20,20),\n",
    "         weight3=(740,790));"
   ]
  },
  {
   "cell_type": "markdown",
   "metadata": {},
   "source": [
    "Macht es Sinn, 3 Regressoren zu haben? Erleichtert es die Interpretation?"
   ]
  },
  {
   "cell_type": "markdown",
   "metadata": {},
   "source": [
    "## Das gleiche mit allen Bedingungen"
   ]
  },
  {
   "cell_type": "code",
   "execution_count": null,
   "metadata": {},
   "outputs": [],
   "source": [
    "df = pd.read_csv('../data/sub-01_task-imagery_run-02_events.tsv',sep='\\t')\n",
    "df = df.rename(columns={'trial_domain':'trial_type'})\n",
    "fmri_glm = fmri_glm.fit(fmri_img, df)\n",
    "design_matrix = fmri_glm.design_matrices_[-1]"
   ]
  },
  {
   "cell_type": "code",
   "execution_count": null,
   "metadata": {},
   "outputs": [],
   "source": [
    "def make_plot(wSprache,wMotorik,wGesichter,wEmotion,wRuhe,wConstant):\n",
    "    plt.plot(voxel_data)\n",
    "    prediction1 = (design_matrix.loc[:,'SPRACHE']*wSprache).values\n",
    "    prediction2 = (design_matrix.loc[:,'MOTORIK']*wMotorik).values\n",
    "    prediction3 = (design_matrix.loc[:,'GESICHTER']*wGesichter).values\n",
    "    prediction4 = (design_matrix.loc[:,'EMOTION']*wEmotion).values\n",
    "    prediction5 = (design_matrix.loc[:,'RUHE']*wRuhe).values\n",
    "    prediction6 = (design_matrix.loc[:,'constant']*wConstant).values\n",
    "\n",
    "    sum_of_predictions = prediction1 + prediction2 + prediction3 + prediction4 + prediction5 + prediction6\n",
    "    plt.plot(sum_of_predictions,label='sum of preds')\n",
    "\n",
    "    observed = voxel_data.ravel()\n",
    "    predicted = sum_of_predictions.ravel()\n",
    "    residual = ((observed-predicted)**2).sum()\n",
    "    \n",
    "    plt.title('sum of squared errors=%.2f'%residual)\n",
    "    \n",
    "    sns.despine(bottom=True,trim=True,offset=1)\n",
    "    plt.legend(loc=(1,0.8))\n",
    "    plt.show()"
   ]
  },
  {
   "cell_type": "code",
   "execution_count": null,
   "metadata": {},
   "outputs": [],
   "source": [
    "interact(make_plot,\n",
    "         wSprache=(-20,20),\n",
    "         wMotorik=(-20,20),\n",
    "         wGesichter=(-20,20),\n",
    "         wEmotion=(-20,20),\n",
    "         wRuhe=(-20,20),\n",
    "         wConstant=(740,790));"
   ]
  },
  {
   "cell_type": "markdown",
   "metadata": {},
   "source": [
    "Wie müssen wir die Betas kombinieren, um den Differenz Sprache vs. alle anderen Bedingungen zu bekommen?"
   ]
  },
  {
   "cell_type": "markdown",
   "metadata": {},
   "source": [
    "## Das Ganze automatisch machen\n",
    "\n",
    "d.h. den besten Fit finden"
   ]
  },
  {
   "cell_type": "code",
   "execution_count": null,
   "metadata": {},
   "outputs": [],
   "source": [
    "my_model = regression.OLSModel(design_matrix)"
   ]
  },
  {
   "cell_type": "code",
   "execution_count": null,
   "metadata": {},
   "outputs": [],
   "source": [
    "my_results = my_model.fit(voxel_data)"
   ]
  },
  {
   "cell_type": "markdown",
   "metadata": {},
   "source": [
    "### bester fit vs. beobachtete Daten"
   ]
  },
  {
   "cell_type": "code",
   "execution_count": null,
   "metadata": {},
   "outputs": [],
   "source": [
    "this_predicted = my_results.predicted"
   ]
  },
  {
   "cell_type": "code",
   "execution_count": null,
   "metadata": {},
   "outputs": [],
   "source": [
    "plt.figure(figsize=(14,5))\n",
    "plt.plot(voxel_data,label='beobachtete Daten')\n",
    "plt.plot(this_predicted,label='bestes gefittete Modell')\n",
    "plt.xlabel('Zeitverlauf in TR')\n",
    "plt.ylabel('Rohes fMRT-Signal')\n",
    "plt.legend()\n",
    "sns.despine()\n",
    "plt.show()"
   ]
  },
  {
   "cell_type": "markdown",
   "metadata": {},
   "source": [
    "## Wie muss ich die einzelnen Regressoren gewichten, um das gefittete Modell zu bekommen?"
   ]
  },
  {
   "cell_type": "markdown",
   "metadata": {},
   "source": [
    "Die Gewichte sind in der Variablen \"theta\" hinterlegt. Das ist das was wir sonst \"beta\" nennen."
   ]
  },
  {
   "cell_type": "code",
   "execution_count": null,
   "metadata": {},
   "outputs": [],
   "source": [
    "these_weights = my_results.theta"
   ]
  },
  {
   "cell_type": "code",
   "execution_count": null,
   "metadata": {},
   "outputs": [],
   "source": [
    "these_weights"
   ]
  },
  {
   "cell_type": "code",
   "execution_count": null,
   "metadata": {},
   "outputs": [],
   "source": [
    "weights_df = pd.DataFrame(zip(design_matrix.columns,these_weights))\n",
    "weights_df.columns = ['condition','weight']\n",
    "weights_df.index = weights_df.loc[:,'condition']\n",
    "weights_df = weights_df.drop('condition',axis=1)\n",
    "weights_df = weights_df.applymap(lambda x:x[-1])\n",
    "weights_df.loc[['SPRACHE','MOTORIK','GESICHTER','EMOTION','RUHE','constant']]"
   ]
  },
  {
   "cell_type": "markdown",
   "metadata": {},
   "source": [
    "So sieht das ursprüngliche Modell aus (alle betas = 1)"
   ]
  },
  {
   "cell_type": "code",
   "execution_count": null,
   "metadata": {},
   "outputs": [],
   "source": [
    "sns.heatmap(design_matrix);"
   ]
  },
  {
   "cell_type": "markdown",
   "metadata": {},
   "source": [
    "So sieht es nach Multiplikation mit den betas aus:"
   ]
  },
  {
   "cell_type": "code",
   "execution_count": null,
   "metadata": {},
   "outputs": [],
   "source": [
    "apply_weight = lambda x: x*weights_df.loc[x.name,'weight']"
   ]
  },
  {
   "cell_type": "code",
   "execution_count": null,
   "metadata": {},
   "outputs": [],
   "source": [
    "multi_df = design_matrix.apply(apply_weight)[['SPRACHE','MOTORIK','GESICHTER','EMOTION','RUHE','constant']]"
   ]
  },
  {
   "cell_type": "code",
   "execution_count": null,
   "metadata": {},
   "outputs": [],
   "source": [
    "sns.heatmap(multi_df);"
   ]
  },
  {
   "cell_type": "markdown",
   "metadata": {},
   "source": [
    "Bzw."
   ]
  },
  {
   "cell_type": "code",
   "execution_count": null,
   "metadata": {},
   "outputs": [],
   "source": [
    "sns.heatmap(multi_df.drop('constant',axis=1),cmap='RdBu_r',vmin=-7,vmax=7);"
   ]
  },
  {
   "cell_type": "markdown",
   "metadata": {},
   "source": [
    "Die selben gewichteten Regressoren, visualisiert mit Zeit auf der x-Achse:"
   ]
  },
  {
   "cell_type": "code",
   "execution_count": null,
   "metadata": {
    "scrolled": true
   },
   "outputs": [],
   "source": [
    "for c in multi_df.columns:\n",
    "    plt.plot(design_matrix.loc[:,c],label='original')\n",
    "    plt.plot(multi_df.loc[:,c],label='weighted')\n",
    "    plt.legend()\n",
    "    plt.title('%s, weight=%.2f'%(c, weights_df.loc[c,'weight']))\n",
    "    sns.despine()\n",
    "    plt.show()"
   ]
  },
  {
   "cell_type": "markdown",
   "metadata": {},
   "source": [
    "Summe der gewichteten Regressoren"
   ]
  },
  {
   "cell_type": "code",
   "execution_count": null,
   "metadata": {},
   "outputs": [],
   "source": [
    "plt.figure(figsize=(14,5))\n",
    "\n",
    "plt.plot(voxel_data,label='beobachtete Daten')\n",
    "\n",
    "sum_of_weighted = (  \n",
    "                      multi_df['SPRACHE'] \n",
    "                   #+ multi_df['MOTORIK'] \n",
    "                   #+ multi_df['GESICHTER'] \n",
    "                   #+ multi_df['EMOTION'] \n",
    "                   #+ multi_df['RUHE'] \n",
    "                   #+ multi_df['constant'] \n",
    "                  )\n",
    "plt.plot(sum_of_weighted.values,label='bestes gefittete Modell')\n",
    "#plt.plot(my_results.predicted,'--',label='nistats prediction')\n",
    "\n",
    "plt.xlabel('Zeitverlauf in TR')\n",
    "plt.ylabel('Rohes fMRT-Signal')\n",
    "plt.legend()\n",
    "sns.despine()\n",
    "plt.show()"
   ]
  },
  {
   "cell_type": "markdown",
   "metadata": {},
   "source": [
    "## Das gleiche, automatisch mit nistats"
   ]
  },
  {
   "cell_type": "markdown",
   "metadata": {},
   "source": [
    "Onsets"
   ]
  },
  {
   "cell_type": "code",
   "execution_count": null,
   "metadata": {},
   "outputs": [],
   "source": [
    "df = pd.read_csv('../data/sub-01_task-imagery_run-02_events.tsv',sep='\\t')\n",
    "df = df.rename(columns={'trial_domain':'trial_type'})"
   ]
  },
  {
   "cell_type": "code",
   "execution_count": null,
   "metadata": {
    "scrolled": true
   },
   "outputs": [],
   "source": [
    "df"
   ]
  },
  {
   "cell_type": "markdown",
   "metadata": {},
   "source": [
    "Modell fitten. Wir brauchen nur zwei Dinge:  \n",
    "* die Datei mit den fMRT-Daten\n",
    "* die Tabelle mit den Onsets"
   ]
  },
  {
   "cell_type": "code",
   "execution_count": null,
   "metadata": {},
   "outputs": [],
   "source": [
    "fmri_glm = fmri_glm.fit(fmri_img, df)"
   ]
  },
  {
   "cell_type": "code",
   "execution_count": null,
   "metadata": {},
   "outputs": [],
   "source": [
    "design_matrix = fmri_glm.design_matrices_[-1]\n",
    "sns.heatmap(design_matrix,cmap='Greys_r')"
   ]
  },
  {
   "cell_type": "markdown",
   "metadata": {},
   "source": [
    "Der \"Kontrast\" Sprache gegen alles andere:"
   ]
  },
  {
   "cell_type": "code",
   "execution_count": null,
   "metadata": {},
   "outputs": [],
   "source": [
    "sprache_vs_alles_andere = np.array([0,0,0,0,0,0])\n",
    "reporting.plot_contrast_matrix(sprache_vs_alles_andere, design_matrix=design_matrix);"
   ]
  },
  {
   "cell_type": "markdown",
   "metadata": {},
   "source": [
    "Die Gewichte für jedes Voxel finden"
   ]
  },
  {
   "cell_type": "code",
   "execution_count": null,
   "metadata": {},
   "outputs": [],
   "source": [
    "beta_img = fmri_glm.compute_contrast(sprache_vs_alles_andere,\n",
    "                                     output_type='effect_size')"
   ]
  },
  {
   "cell_type": "code",
   "execution_count": null,
   "metadata": {},
   "outputs": [],
   "source": [
    "plotting.plot_stat_map(beta_img,cut_coords=(-55,10,20))"
   ]
  },
  {
   "cell_type": "markdown",
   "metadata": {},
   "source": [
    "Daten aus usprünglichem Voxel extrahieren"
   ]
  },
  {
   "cell_type": "code",
   "execution_count": null,
   "metadata": {},
   "outputs": [],
   "source": [
    "seed_masker.seeds_"
   ]
  },
  {
   "cell_type": "markdown",
   "metadata": {},
   "source": [
    "Passt der Wert (\"beta\") der Karte an dieser Stelle zu dem Gewichtung die wir in den Modellen oben händisch gewählt haben?"
   ]
  },
  {
   "cell_type": "code",
   "execution_count": null,
   "metadata": {},
   "outputs": [],
   "source": [
    "seed_masker.transform(beta_img)"
   ]
  }
 ],
 "metadata": {
  "kernelspec": {
   "display_name": "Python 3 (seminar)",
   "language": "python",
   "name": "seminar"
  },
  "language_info": {
   "codemirror_mode": {
    "name": "ipython",
    "version": 3
   },
   "file_extension": ".py",
   "mimetype": "text/x-python",
   "name": "python",
   "nbconvert_exporter": "python",
   "pygments_lexer": "ipython3",
   "version": "3.7.2"
  }
 },
 "nbformat": 4,
 "nbformat_minor": 2
}
